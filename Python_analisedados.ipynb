{
  "nbformat": 4,
  "nbformat_minor": 0,
  "metadata": {
    "colab": {
      "name": "Python_analisedados.ipynb",
      "provenance": [],
      "authorship_tag": "ABX9TyOjwTAjym5bLmWUCPMgjvtU",
      "include_colab_link": true
    },
    "kernelspec": {
      "name": "python3",
      "display_name": "Python 3"
    },
    "language_info": {
      "name": "python"
    }
  },
  "cells": [
    {
      "cell_type": "markdown",
      "metadata": {
        "id": "view-in-github",
        "colab_type": "text"
      },
      "source": [
        "<a href=\"https://colab.research.google.com/github/RobSouzaUFPE/ScriptPython/blob/main/Python_analisedados.ipynb\" target=\"_parent\"><img src=\"https://colab.research.google.com/assets/colab-badge.svg\" alt=\"Open In Colab\"/></a>"
      ]
    },
    {
      "cell_type": "markdown",
      "source": [
        "SintAxe básica \n",
        "Podemos utilizar ('') aspas simples\n",
        "(\"\") aspas duplas\n",
        "# para comentário\n",
        "''' para comentários\n"
      ],
      "metadata": {
        "id": "HbG8f4WP7JdJ"
      }
    },
    {
      "cell_type": "code",
      "source": [
        ""
      ],
      "metadata": {
        "id": "O7Pj_10A7_9Z"
      },
      "execution_count": null,
      "outputs": []
    },
    {
      "cell_type": "code",
      "execution_count": null,
      "metadata": {
        "colab": {
          "base_uri": "https://localhost:8080/"
        },
        "id": "qwGuDPWd65NR",
        "outputId": "36892e81-956d-4411-e764-a75cd22be9d3"
      },
      "outputs": [
        {
          "output_type": "stream",
          "name": "stdout",
          "text": [
            "olá mundo!\n"
          ]
        }
      ],
      "source": [
        "print(\"olá mundo!\")"
      ]
    },
    {
      "cell_type": "code",
      "source": [
        "print('Olá mundo!')"
      ],
      "metadata": {
        "colab": {
          "base_uri": "https://localhost:8080/"
        },
        "id": "E3W7rYWw7m5K",
        "outputId": "da934d88-cab7-40b8-b62a-6cdd835a78ef"
      },
      "execution_count": null,
      "outputs": [
        {
          "output_type": "stream",
          "name": "stdout",
          "text": [
            "Olá mundo!\n"
          ]
        }
      ]
    },
    {
      "cell_type": "code",
      "source": [
        "#comentário"
      ],
      "metadata": {
        "id": "6YtEp7hr7sSY"
      },
      "execution_count": null,
      "outputs": []
    },
    {
      "cell_type": "markdown",
      "source": [
        "Operadores aritiméticos\n",
        "4 * 4 (multiplicar)\n",
        "4 / 4 (divisão)\n",
        "2 ** 2 (exponeciação)\n",
        "3 % 4 (resto da divisão)\n",
        "3//4 (divisão de chão)\n",
        "3 + 4 (soma)\n",
        "4 - 3 (subtração)\n"
      ],
      "metadata": {
        "id": "LUYKN3og8fQd"
      }
    },
    {
      "cell_type": "code",
      "source": [
        ""
      ],
      "metadata": {
        "id": "XWocVFyfZ4Ti"
      },
      "execution_count": null,
      "outputs": []
    },
    {
      "cell_type": "markdown",
      "source": [
        ""
      ],
      "metadata": {
        "id": "SdYBpcBW9hzu"
      }
    },
    {
      "cell_type": "markdown",
      "source": [
        "Priorização dos operadores\n",
        "O que estiver dentro dos parênteses, pode incluir um dentro do outro\n",
        "Multiplicação/divisão"
      ],
      "metadata": {
        "id": "NtQWhhdI9h2J"
      }
    },
    {
      "cell_type": "code",
      "source": [
        ""
      ],
      "metadata": {
        "id": "hHPJNdCw93Yj"
      },
      "execution_count": null,
      "outputs": []
    },
    {
      "cell_type": "markdown",
      "source": [
        "Variáveis:\n",
        "Onde são armazenados valores de dados\n",
        "\n",
        "> Bloco com recuo\n",
        "é preciso nomeá-las, serão armazenadas na memória. Não é possível nomear com espaços, utilizar anderline\n",
        "\n",
        "> Bloco com recuo\n",
        "Tipos: Texto = str - string\n",
        "\n"
      ],
      "metadata": {
        "id": "UYMgCNz495pL"
      }
    },
    {
      "cell_type": "code",
      "source": [
        "texto_var = str(\"Olá Brasil\")"
      ],
      "metadata": {
        "id": "Z-jxpi03_hcy"
      },
      "execution_count": null,
      "outputs": []
    },
    {
      "cell_type": "code",
      "source": [
        "print(texto_var)"
      ],
      "metadata": {
        "colab": {
          "base_uri": "https://localhost:8080/"
        },
        "id": "hSPNgw9z_qBn",
        "outputId": "06ed5ee6-4e24-46a2-86da-9a3c04709e23"
      },
      "execution_count": null,
      "outputs": [
        {
          "output_type": "stream",
          "name": "stdout",
          "text": [
            "Olá Brasil\n"
          ]
        }
      ]
    },
    {
      "cell_type": "code",
      "source": [
        "var_inteiro_01 = 100\n",
        "var_inteiro_02 = int(200)\n",
        "print(var_inteiro_01, var_inteiro_02)"
      ],
      "metadata": {
        "colab": {
          "base_uri": "https://localhost:8080/"
        },
        "id": "LFHckvRaA6og",
        "outputId": "7a204f16-b656-4989-dd3a-fed63feab2dc"
      },
      "execution_count": null,
      "outputs": [
        {
          "output_type": "stream",
          "name": "stdout",
          "text": [
            "100 200\n"
          ]
        }
      ]
    },
    {
      "cell_type": "code",
      "source": [
        "var_float_01 = 10.00\n",
        "var_float_02 = float(20.0)\n",
        "print(var_float_01, var_float_02 )"
      ],
      "metadata": {
        "colab": {
          "base_uri": "https://localhost:8080/"
        },
        "id": "39DioCHSBUzT",
        "outputId": "24faba01-8328-434f-a511-113a4b92ddad"
      },
      "execution_count": null,
      "outputs": [
        {
          "output_type": "stream",
          "name": "stdout",
          "text": [
            "10.0 20.0\n"
          ]
        }
      ]
    },
    {
      "cell_type": "code",
      "source": [
        "var_booleano_01 = False\n",
        "var_booleano_02 = True\n",
        "print(var_booleano_01, var_booleano_02 )"
      ],
      "metadata": {
        "colab": {
          "base_uri": "https://localhost:8080/"
        },
        "id": "1dVSZxb0Bo1u",
        "outputId": "83756156-a88a-4e01-9121-32c52396fb4e"
      },
      "execution_count": null,
      "outputs": [
        {
          "output_type": "stream",
          "name": "stdout",
          "text": [
            "False True\n"
          ]
        }
      ]
    },
    {
      "cell_type": "markdown",
      "source": [
        "Tipos de dados\n",
        "Listas usamos []\n",
        "Tuplas usamos ()\n",
        "Dicionários usamos {}\n",
        "Podem ser atribuidas operações\n",
        "\n",
        "\n",
        "> Bloco com recuo\n",
        "Nas listas podemos passar uma sequencia de valores\n",
        "As tuplas são imutáveis (não é possível manipular)\n",
        "Nos dicionários é preciso usar o índice(index) e o valor\n",
        "\n"
      ],
      "metadata": {
        "id": "MF9rm7aRCliw"
      }
    },
    {
      "cell_type": "code",
      "source": [
        "lista_01 = [1,2,3,4,5,6,7,8,9, 'maria', 'jose', 'carlos']\n",
        "lista_01\n"
      ],
      "metadata": {
        "colab": {
          "base_uri": "https://localhost:8080/"
        },
        "id": "3jc3HHzTDClJ",
        "outputId": "f3a6fd1f-e4fc-4018-93d5-f577aa25a218"
      },
      "execution_count": null,
      "outputs": [
        {
          "output_type": "execute_result",
          "data": {
            "text/plain": [
              "[1, 2, 3, 4, 5, 6, 7, 8, 9, 'maria', 'jose', 'carlos']"
            ]
          },
          "metadata": {},
          "execution_count": 11
        }
      ]
    },
    {
      "cell_type": "code",
      "source": [
        "lista_carros = ['wv', 'audi', 'fusca']\n",
        "marca_01, marca_02, marca_03 = lista_carros\n",
        "print(marca_01, marca_02, marca_03)"
      ],
      "metadata": {
        "colab": {
          "base_uri": "https://localhost:8080/"
        },
        "id": "ZXCmovabF7Gp",
        "outputId": "434588dc-1012-438d-e4c8-bf6f31d36fa0"
      },
      "execution_count": null,
      "outputs": [
        {
          "output_type": "stream",
          "name": "stdout",
          "text": [
            "wv audi fusca\n"
          ]
        }
      ]
    },
    {
      "cell_type": "code",
      "source": [
        "nome = ' Odemir '\n",
        "idade = str(29)\n",
        "nome + idade + ' anos'"
      ],
      "metadata": {
        "colab": {
          "base_uri": "https://localhost:8080/",
          "height": 35
        },
        "id": "mIV0R8LJIeik",
        "outputId": "1b422207-01c9-4c99-ef82-19c74b245689"
      },
      "execution_count": null,
      "outputs": [
        {
          "output_type": "execute_result",
          "data": {
            "text/plain": [
              "' Odemir 29 anos'"
            ],
            "application/vnd.google.colaboratory.intrinsic+json": {
              "type": "string"
            }
          },
          "metadata": {},
          "execution_count": 15
        }
      ]
    },
    {
      "cell_type": "code",
      "source": [
        "investimento = 1000\n",
        "taxa_juros = float('0.2')\n",
        "print(investimento * taxa_juros)\n",
        "lucro = (investimento * taxa_juros + investimento)\n",
        "print(lucro)"
      ],
      "metadata": {
        "colab": {
          "base_uri": "https://localhost:8080/"
        },
        "id": "lSuGgRIWJYT2",
        "outputId": "7f48c868-7ca2-4079-bb2b-c1e107f21806"
      },
      "execution_count": null,
      "outputs": [
        {
          "output_type": "stream",
          "name": "stdout",
          "text": [
            "200.0\n",
            "1200.0\n"
          ]
        }
      ]
    },
    {
      "cell_type": "markdown",
      "source": [
        ""
      ],
      "metadata": {
        "id": "ox-FjcdBKOdj"
      }
    },
    {
      "cell_type": "markdown",
      "source": [
        "Tipos de informação\n",
        "String('Olá mundo')\n",
        "Inteiro = int(10)\n",
        "Float = float(10.5)\n",
        "Complex = complex(i8)\n",
        "Lista = list(('maça', 'morango'))\n",
        "Tupla = tuple( ( 'A', 'B')\n",
        "Dicionário = dict ( name = 'José' age =29)\n",
        "Range = range(4)\n",
        "Set = set(('A', 'B','C'))\n",
        "Fronset = fronset (('A', 'B','C'))\n",
        "Booleano = bool(5)\n",
        "Bytes = bytes(5)\n",
        "Bytearray = bytearray(5)\n",
        "Memoryview = memoryview(byte(5)\n",
        "\n"
      ],
      "metadata": {
        "id": "5R7D-N6fKOgF"
      }
    },
    {
      "cell_type": "code",
      "source": [
        "String = str('Olá mundo')\n",
        "Inteiro = int(10)\n",
        "Float = float(10.5)\n",
        "Complex = complex(1j)\n",
        "Lista = list(('maça', 'morango'))\n",
        "Tupla = tuple(( 'A', 'B'))\n",
        "Dicionario = dict(name='José', age=29)\n",
        "Range = range(6)\n",
        "Set = set(('A', 'B','C'))\n",
        "Fronzet = frozenset(('A', 'B','C'))\n",
        "Booleano = bool(5)\n",
        "Bytes = bytes(5)\n",
        "Bytearray = bytearray(5)\n",
        "Memoryview = memoryview (bytes(5))"
      ],
      "metadata": {
        "id": "swSaDVWKRpZi"
      },
      "execution_count": null,
      "outputs": []
    },
    {
      "cell_type": "code",
      "source": [
        "from  datetime import datetime\n",
        "Data = datetime.today().date()"
      ],
      "metadata": {
        "id": "OGkwGBfcTqtk"
      },
      "execution_count": null,
      "outputs": []
    },
    {
      "cell_type": "code",
      "source": [
        "type(Data)"
      ],
      "metadata": {
        "colab": {
          "base_uri": "https://localhost:8080/"
        },
        "id": "jxHbwmTXUK04",
        "outputId": "ac866288-8b8c-4c7c-ade3-abb3b560cda0"
      },
      "execution_count": null,
      "outputs": [
        {
          "output_type": "execute_result",
          "data": {
            "text/plain": [
              "datetime.date"
            ]
          },
          "metadata": {},
          "execution_count": 35
        }
      ]
    },
    {
      "cell_type": "code",
      "source": [
        "lista = [ ]\n",
        "print (lista)"
      ],
      "metadata": {
        "colab": {
          "base_uri": "https://localhost:8080/"
        },
        "id": "Q-TNTQWXZ9lO",
        "outputId": "00c2bedf-73d1-401b-ce57-e63c9caafd6a"
      },
      "execution_count": null,
      "outputs": [
        {
          "output_type": "stream",
          "name": "stdout",
          "text": [
            "[]\n"
          ]
        }
      ]
    },
    {
      "cell_type": "code",
      "source": [
        "lista.append(1)\n",
        "lista.append(2)\n",
        "lista.append(3)\n",
        "print(lista)"
      ],
      "metadata": {
        "colab": {
          "base_uri": "https://localhost:8080/"
        },
        "id": "c7SqYG6vaQbA",
        "outputId": "cb7eeb0e-866e-4def-9432-3ba802151551"
      },
      "execution_count": null,
      "outputs": [
        {
          "output_type": "stream",
          "name": "stdout",
          "text": [
            "[1, 1, 2, 3]\n"
          ]
        }
      ]
    },
    {
      "cell_type": "code",
      "source": [
        "import datetime"
      ],
      "metadata": {
        "id": "xqEsI0AubGuQ"
      },
      "execution_count": null,
      "outputs": []
    },
    {
      "cell_type": "code",
      "source": [
        "dia_hoje = datetime.datetime.today()\n",
        "print(dia_hoje)"
      ],
      "metadata": {
        "colab": {
          "base_uri": "https://localhost:8080/"
        },
        "id": "Cq-z40i2bOaU",
        "outputId": "b445f752-a50a-482c-a38b-8b84ea2ab3aa"
      },
      "execution_count": null,
      "outputs": [
        {
          "output_type": "stream",
          "name": "stdout",
          "text": [
            "2022-06-04 01:53:40.353714\n"
          ]
        }
      ]
    },
    {
      "cell_type": "code",
      "source": [
        ""
      ],
      "metadata": {
        "id": "vJd4ct_ZnddT"
      },
      "execution_count": null,
      "outputs": []
    }
  ]
}