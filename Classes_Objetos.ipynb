{
  "nbformat": 4,
  "nbformat_minor": 0,
  "metadata": {
    "colab": {
      "name": "Classes_Objetos.ipynb",
      "provenance": [],
      "authorship_tag": "ABX9TyPEnauUkkHdrSeUqVOdiGWw",
      "include_colab_link": true
    },
    "kernelspec": {
      "name": "python3",
      "display_name": "Python 3"
    },
    "language_info": {
      "name": "python"
    }
  },
  "cells": [
    {
      "cell_type": "markdown",
      "metadata": {
        "id": "view-in-github",
        "colab_type": "text"
      },
      "source": [
        "<a href=\"https://colab.research.google.com/github/RobSouzaUFPE/ScriptPython/blob/main/Classes_Objetos.ipynb\" target=\"_parent\"><img src=\"https://colab.research.google.com/assets/colab-badge.svg\" alt=\"Open In Colab\"/></a>"
      ]
    },
    {
      "cell_type": "markdown",
      "source": [
        "Classe - precisa primeiramente de um método"
      ],
      "metadata": {
        "id": "1pRkYUX--yQc"
      }
    },
    {
      "cell_type": "code",
      "source": [
        "class Pessoa:\n",
        "\n",
        "  def __init__ (self, Nome, Idade):\n",
        "      self.Nome = Nome\n",
        "      self.Idade = Idade\n",
        "\n",
        "  def boas_vindas(self):\n",
        "    print ('Olá, Boas Vindas:', self.Nome)\n",
        "\n",
        "  def recusado(self):\n",
        "    print('Você é de menor, foi recusado.')\n",
        "\n",
        "  def maior_idade(self):\n",
        "    if self.Idade >= 18:\n",
        "      print('Usuário é maior de idade.')\n",
        "      self.boas_vindas()\n",
        "    else:\n",
        "      print('usuário é menor de idade.')\n",
        "      self.recusado()\n",
        "    \n",
        "     "
      ],
      "metadata": {
        "id": "xVCEnwsD-x2p"
      },
      "execution_count": 18,
      "outputs": []
    },
    {
      "cell_type": "code",
      "source": [
        "Dados = Pessoa('Roberta', 15)\n"
      ],
      "metadata": {
        "id": "y0EXaCrdC848"
      },
      "execution_count": 22,
      "outputs": []
    },
    {
      "cell_type": "code",
      "source": [
        "Dados.maior_idade()"
      ],
      "metadata": {
        "colab": {
          "base_uri": "https://localhost:8080/"
        },
        "id": "CuGNWs4-FzXD",
        "outputId": "0cdd911a-34ce-4198-e6e6-d3906ad364e6"
      },
      "execution_count": 23,
      "outputs": [
        {
          "output_type": "stream",
          "name": "stdout",
          "text": [
            "usuário é menor de idade.\n",
            "Você é de menor, foi recusado.\n"
          ]
        }
      ]
    },
    {
      "cell_type": "markdown",
      "source": [
        "Métodos/Processos"
      ],
      "metadata": {
        "id": "3bjqLgSoGLl3"
      }
    },
    {
      "cell_type": "code",
      "source": [
        "import time\n",
        "import datetime"
      ],
      "metadata": {
        "id": "g4i-5DmoGKqd"
      },
      "execution_count": 24,
      "outputs": []
    },
    {
      "cell_type": "code",
      "source": [
        ""
      ],
      "metadata": {
        "id": "PkL6mh9hHKZ5"
      },
      "execution_count": null,
      "outputs": []
    }
  ]
}