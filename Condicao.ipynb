{
  "nbformat": 4,
  "nbformat_minor": 0,
  "metadata": {
    "colab": {
      "name": "Condicao.ipynb",
      "provenance": [],
      "collapsed_sections": [],
      "authorship_tag": "ABX9TyOpm8PzkfTvzl8o6cFwlBd7",
      "include_colab_link": true
    },
    "kernelspec": {
      "name": "python3",
      "display_name": "Python 3"
    },
    "language_info": {
      "name": "python"
    }
  },
  "cells": [
    {
      "cell_type": "markdown",
      "metadata": {
        "id": "view-in-github",
        "colab_type": "text"
      },
      "source": [
        "<a href=\"https://colab.research.google.com/github/RobSouzaUFPE/ScriptPython/blob/main/Condicao.ipynb\" target=\"_parent\"><img src=\"https://colab.research.google.com/assets/colab-badge.svg\" alt=\"Open In Colab\"/></a>"
      ]
    },
    {
      "cell_type": "markdown",
      "source": [
        "Condição: If"
      ],
      "metadata": {
        "id": "y7OLE3-I40tC"
      }
    },
    {
      "cell_type": "markdown",
      "source": [
        "Declaração mais simples para tomada de decição:\n",
        "Ex.Se chover levo guarda-chuva, senão não levo"
      ],
      "metadata": {
        "id": "1TO8tKlh5yt7"
      }
    },
    {
      "cell_type": "code",
      "execution_count": 10,
      "metadata": {
        "colab": {
          "base_uri": "https://localhost:8080/"
        },
        "id": "N9m0nIbN4xVU",
        "outputId": "ffb3b5cf-20f8-4939-8ac0-ed4dd09ce8c9"
      },
      "outputs": [
        {
          "output_type": "stream",
          "name": "stdout",
          "text": [
            "Você é maior de idade, você tem:  25 anos.\n"
          ]
        }
      ],
      "source": [
        "# se pessoa tiver idade igual ou maior que 18 é maior de idade\n",
        "idade = 25\n",
        "if idade >= 18:\n",
        "  print(\"Você é maior de idade, você tem: \", idade, \"anos.\")\n",
        "else:\n",
        "  print(\"Você é menor de idade, você tem apenas: \", idade, \"anos.\")\n",
        "  "
      ]
    },
    {
      "cell_type": "code",
      "source": [
        "idade = 16\n",
        "if idade >= 18:\n",
        "  print(\"Você é maior de idade, você tem: \", idade, \"anos, pode comprar o ingresso.\")\n",
        "elif idade >= 15 and idade <=17:\n",
        "  print(\"Você possui \", idade, \"anos apenas, seu pai ou mãe precisam autorizar.\")\n",
        "else:\n",
        "  print(\"Você é menor de idade, você tem apenas: \", idade, \"anos, mas ainda não pode participar.\")\n"
      ],
      "metadata": {
        "colab": {
          "base_uri": "https://localhost:8080/"
        },
        "id": "4-cgG7im8J_3",
        "outputId": "526ed523-3155-415e-de5f-7a902085966a"
      },
      "execution_count": 15,
      "outputs": [
        {
          "output_type": "stream",
          "name": "stdout",
          "text": [
            "Você possui  16 anos apenas, seu pai ou mãe precisam autorizar.\n"
          ]
        }
      ]
    },
    {
      "cell_type": "markdown",
      "source": [
        "Laço FOR \n",
        "Será executado dentro de uma sequência"
      ],
      "metadata": {
        "id": "S8o28WUU9LX8"
      }
    },
    {
      "cell_type": "code",
      "source": [
        "for qualquercoisa in range (10):\n",
        "   print(qualquercoisa)\n"
      ],
      "metadata": {
        "colab": {
          "base_uri": "https://localhost:8080/"
        },
        "id": "lDV744Oz9Quj",
        "outputId": "88f8b2dd-369c-4985-f6d8-fc96b5d686a7"
      },
      "execution_count": 30,
      "outputs": [
        {
          "output_type": "stream",
          "name": "stdout",
          "text": [
            "0\n",
            "1\n",
            "2\n",
            "3\n",
            "4\n",
            "5\n",
            "6\n",
            "7\n",
            "8\n",
            "9\n"
          ]
        }
      ]
    },
    {
      "cell_type": "code",
      "source": [
        "lista = ['Argentina', 'Brasil', 'Chile', 'Paraguai', 'Peru']\n",
        "for qualquercoisa in lista:\n",
        "   print(qualquercoisa.upper()[0:3])"
      ],
      "metadata": {
        "colab": {
          "base_uri": "https://localhost:8080/"
        },
        "id": "_k7lkFDQ4zPU",
        "outputId": "f9445357-5fda-46df-db93-016dbd501c3c"
      },
      "execution_count": 34,
      "outputs": [
        {
          "output_type": "stream",
          "name": "stdout",
          "text": [
            "ARG\n",
            "BRA\n",
            "CHI\n",
            "PAR\n",
            "PER\n"
          ]
        }
      ]
    },
    {
      "cell_type": "code",
      "source": [
        "lista = ['Argentina', 'Brasil', 'Chile', 'Paraguai', 'Peru']\n",
        "for pais in lista:\n",
        "   print(pais.upper()[0:3])\n"
      ],
      "metadata": {
        "colab": {
          "base_uri": "https://localhost:8080/"
        },
        "id": "KOr0ux3qAQ3X",
        "outputId": "8b781d19-4d41-4619-a777-06c9712b683c"
      },
      "execution_count": 35,
      "outputs": [
        {
          "output_type": "stream",
          "name": "stdout",
          "text": [
            "ARG\n",
            "BRA\n",
            "CHI\n",
            "PAR\n",
            "PER\n"
          ]
        }
      ]
    },
    {
      "cell_type": "code",
      "source": [
        "lista = ['Argentina', 'Brasil', 'Chile', 'Paraguai', 'Peru']\n",
        "for pais in lista:\n",
        "   if pais == 'Paraguai':\n",
        "     print(' O Pais', pais, 'é bi-campeão mundial.')\n",
        "     for algumacoisa in range(10):\n",
        "        print(algumacoisa)"
      ],
      "metadata": {
        "colab": {
          "base_uri": "https://localhost:8080/"
        },
        "id": "R-dmyzoTAYWC",
        "outputId": "89d2ce70-d7d4-4a4e-f29e-e17386a8d4ed"
      },
      "execution_count": 39,
      "outputs": [
        {
          "output_type": "stream",
          "name": "stdout",
          "text": [
            " O Pais Paraguai é bi-campeão mundial.\n",
            "0\n",
            "1\n",
            "2\n",
            "3\n",
            "4\n",
            "5\n",
            "6\n",
            "7\n",
            "8\n",
            "9\n"
          ]
        }
      ]
    },
    {
      "cell_type": "code",
      "source": [
        "for loop in range(0, len(lista), 2):\n",
        "   print(lista[loop])"
      ],
      "metadata": {
        "colab": {
          "base_uri": "https://localhost:8080/"
        },
        "id": "68ZJNrVKB2hA",
        "outputId": "599635d0-8317-4d00-9925-a2db93e98c16"
      },
      "execution_count": 43,
      "outputs": [
        {
          "output_type": "stream",
          "name": "stdout",
          "text": [
            "Argentina\n",
            "Chile\n",
            "Peru\n"
          ]
        }
      ]
    },
    {
      "cell_type": "code",
      "source": [
        "for index, pais in enumerate(lista):\n",
        "  print(index, pais)"
      ],
      "metadata": {
        "colab": {
          "base_uri": "https://localhost:8080/"
        },
        "id": "cgyDQzT8CrYv",
        "outputId": "c172f500-519e-441b-a9d5-13f58230576e"
      },
      "execution_count": 48,
      "outputs": [
        {
          "output_type": "stream",
          "name": "stdout",
          "text": [
            "0 Argentina\n",
            "1 Brasil\n",
            "2 Chile\n",
            "3 Paraguai\n",
            "4 Peru\n"
          ]
        }
      ]
    },
    {
      "cell_type": "code",
      "source": [
        "[numero for numero in range (0,10, 2)]"
      ],
      "metadata": {
        "colab": {
          "base_uri": "https://localhost:8080/"
        },
        "id": "mu9aJTOgC1y7",
        "outputId": "24a36b2b-2ef3-4d3b-8b56-0684af465242"
      },
      "execution_count": 49,
      "outputs": [
        {
          "output_type": "execute_result",
          "data": {
            "text/plain": [
              "[0, 2, 4, 6, 8]"
            ]
          },
          "metadata": {},
          "execution_count": 49
        }
      ]
    },
    {
      "cell_type": "code",
      "source": [
        "[numero ** 2 for numero in range (0,10)]"
      ],
      "metadata": {
        "colab": {
          "base_uri": "https://localhost:8080/"
        },
        "id": "PLFUW2hBESgx",
        "outputId": "b2bd79f8-b433-4f6d-fa23-6de3fa61648a"
      },
      "execution_count": 53,
      "outputs": [
        {
          "output_type": "execute_result",
          "data": {
            "text/plain": [
              "[0, 1, 4, 9, 16, 25, 36, 49, 64, 81]"
            ]
          },
          "metadata": {},
          "execution_count": 53
        }
      ]
    },
    {
      "cell_type": "code",
      "source": [
        "lista =[]\n",
        "for loop in range(0,10):\n",
        "  lista.append(loop)\n",
        "lista"
      ],
      "metadata": {
        "colab": {
          "base_uri": "https://localhost:8080/"
        },
        "id": "yZZ4z3JvE7hq",
        "outputId": "d7de75b7-76ab-4d38-9516-bc70e8228f16"
      },
      "execution_count": 54,
      "outputs": [
        {
          "output_type": "execute_result",
          "data": {
            "text/plain": [
              "[0, 1, 2, 3, 4, 5, 6, 7, 8, 9]"
            ]
          },
          "metadata": {},
          "execution_count": 54
        }
      ]
    },
    {
      "cell_type": "markdown",
      "source": [
        "While precisa de uma condição de parada"
      ],
      "metadata": {
        "id": "aVZy5VfAGh1_"
      }
    },
    {
      "cell_type": "code",
      "source": [
        "Parar = 0\n",
        "while Parar <= 10:\n",
        "   print(Parar)\n",
        "   Parar += 1   "
      ],
      "metadata": {
        "colab": {
          "base_uri": "https://localhost:8080/"
        },
        "id": "b5APO5k9GqB5",
        "outputId": "8fd4c148-17bb-433f-e096-710a53660c0a"
      },
      "execution_count": 57,
      "outputs": [
        {
          "output_type": "stream",
          "name": "stdout",
          "text": [
            "0\n",
            "1\n",
            "2\n",
            "3\n",
            "4\n",
            "5\n",
            "6\n",
            "7\n",
            "8\n",
            "9\n",
            "10\n"
          ]
        }
      ]
    },
    {
      "cell_type": "code",
      "source": [
        "loop = 0\n",
        "\n",
        "import random\n",
        "\n",
        "while loop <= 10:\n",
        "  print(loop)\n",
        "\n",
        "  if loop == 5:\n",
        "\n",
        "    for x in range(10):\n",
        "      print(random.random())\n",
        "  loop += 1\n",
        " "
      ],
      "metadata": {
        "colab": {
          "base_uri": "https://localhost:8080/"
        },
        "id": "9vO7bffYH1bS",
        "outputId": "f8992b51-9aad-4393-b97b-7ed6780cbee0"
      },
      "execution_count": 6,
      "outputs": [
        {
          "output_type": "stream",
          "name": "stdout",
          "text": [
            "0\n",
            "1\n",
            "2\n",
            "3\n",
            "4\n",
            "5\n",
            "0.6374262915370453\n",
            "0.6020846149863242\n",
            "0.11785632802149892\n",
            "0.7964273483367484\n",
            "0.7337906391721409\n",
            "0.06803658615794073\n",
            "0.0728467312892982\n",
            "0.7388252763539703\n",
            "0.05561872814873192\n",
            "0.08912304328434484\n",
            "6\n",
            "7\n",
            "8\n",
            "9\n",
            "10\n"
          ]
        }
      ]
    },
    {
      "cell_type": "markdown",
      "source": [
        "Função: É um bloco de código que só é executado quando é chamado.\n"
      ],
      "metadata": {
        "id": "Qu-I2rrDNIt3"
      }
    },
    {
      "cell_type": "code",
      "source": [
        "def boas_vindas():\n",
        "  print('************* Sejam bem vindos!*******************')"
      ],
      "metadata": {
        "id": "RWNrDKBKNVhk"
      },
      "execution_count": 8,
      "outputs": []
    },
    {
      "cell_type": "code",
      "source": [
        "boas_vindas()"
      ],
      "metadata": {
        "colab": {
          "base_uri": "https://localhost:8080/"
        },
        "id": "l0uVvLhuNWlE",
        "outputId": "5f62655b-1a65-4eae-e806-d748781b02fb"
      },
      "execution_count": 16,
      "outputs": [
        {
          "output_type": "stream",
          "name": "stdout",
          "text": [
            "************* Sejam bem vindos!*******************\n"
          ]
        }
      ]
    },
    {
      "cell_type": "code",
      "source": [
        "def soma(valor_01, valor_02):\n",
        "    soma = valor_01 + valor_02\n",
        "    print(soma)"
      ],
      "metadata": {
        "id": "GWZYNxWsN6k0"
      },
      "execution_count": 14,
      "outputs": []
    },
    {
      "cell_type": "code",
      "source": [
        "soma(5, 3)"
      ],
      "metadata": {
        "colab": {
          "base_uri": "https://localhost:8080/"
        },
        "id": "L3Yn4gJuOy1V",
        "outputId": "11a3008d-c3c8-456d-da2f-d9b2b8b1e0a8"
      },
      "execution_count": 18,
      "outputs": [
        {
          "output_type": "stream",
          "name": "stdout",
          "text": [
            "8\n"
          ]
        }
      ]
    },
    {
      "cell_type": "code",
      "source": [
        "for loop in range(0,10):\n",
        "  \n",
        "   import random\n",
        "\n",
        "   x = random.random()\n",
        "   y = random.random()\n",
        "\n",
        "   soma(x, y)\n"
      ],
      "metadata": {
        "colab": {
          "base_uri": "https://localhost:8080/"
        },
        "id": "xHxiwL19PI1I",
        "outputId": "6dc172d7-14ec-4130-d14e-ba8066957800"
      },
      "execution_count": 21,
      "outputs": [
        {
          "output_type": "stream",
          "name": "stdout",
          "text": [
            "1.093570320021801\n",
            "1.5561687862672617\n",
            "1.0491693445236954\n",
            "0.33006659707341046\n",
            "0.7040015918053576\n",
            "0.5913402251134252\n",
            "1.616688627998863\n",
            "0.9334572035444719\n",
            "0.9640539192917679\n",
            "1.1697065537190185\n"
          ]
        }
      ]
    }
  ]
}